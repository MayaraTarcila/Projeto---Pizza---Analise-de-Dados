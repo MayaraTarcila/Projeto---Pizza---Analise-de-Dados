{
 "cells": [
  {
   "cell_type": "code",
   "execution_count": 1,
   "id": "e89c3bd8-2bf2-4fb8-83b1-a2fb11ea28c1",
   "metadata": {},
   "outputs": [],
   "source": [
    "# 1- Importar as bibliotecas necessárias\n",
    "# 2- Criar um conjunto de dados fictício com diâmetro e o preço de algumas pizzas\n",
    "# 3- Visualizar os dados em um gráfico se dispersão\n",
    "# 4- Criar e treinar um modelo de regressão linear com os dados\n",
    "# 5- Avaliar o desempenho do modelo com algumas métricas\n",
    "# 6- Fazer uma previsão para uma nova pizza"
   ]
  },
  {
   "cell_type": "code",
   "execution_count": 3,
   "id": "8920b244-6f18-40fb-8360-946d22ec9371",
   "metadata": {},
   "outputs": [],
   "source": [
    "# 1- Importar as bibliotecas necessárias\n",
    "import numpy as np #para manipular arrays\n",
    "import matplotlib.pyplot as plt #para visualizar os dados\n",
    "from sklearn.linear_model import LinearRegression #para ceiar o modelo de regressão linear\n",
    "from sklearn.metrics import mean_squared_error, r2_score #para avaliar o modelo"
   ]
  },
  {
   "cell_type": "code",
   "execution_count": 5,
   "id": "725e24e6-8015-41c5-8fec-674c49683005",
   "metadata": {},
   "outputs": [],
   "source": [
    "# 2- Criar um conjunto de dados fictício com diâmetro e o preço de algumas pizzas\n",
    "x = np.array([6, 8, 10, 14, 18])\n",
    "y = np.array([7, 9, 13, 17.5, 18])"
   ]
  },
  {
   "cell_type": "code",
   "execution_count": 22,
   "id": "51fc51d6-e44e-4746-9746-fb75b1ec2c81",
   "metadata": {},
   "outputs": [
    {
     "data": {
      "image/png": "[encoded data removed]",
      "text/plain": [
       "<Figure size 640x480 with 1 Axes>"
      ]
     },
     "metadata": {},
     "output_type": "display_data"
    }
   ],
   "source": [
    "# 3- Visualizar os dados em um gráfico se dispersão\n",
    "plt.scatter(x, y) #criar o gráfico\n",
    "plt.xlabel ('Diâmetro em polegadas')\n",
    "plt.ylabel ('Preço em reais')\n",
    "plt.title ('Preço da pizza em razão de seu diâmetro')\n",
    "plt.show () #mostrar o gráfico"
   ]
  },
  {
   "cell_type": "code",
   "execution_count": 23,
   "id": "adb76b64-e00f-4180-9b30-164653d29943",
   "metadata": {},
   "outputs": [
    {
     "data": {
      "text/html": [
       "<style>#sk-container-id-2 {color: black;background-color: white;}#sk-container-id-2 pre{padding: 0;}#sk-container-id-2 div.sk-toggleable {background-color: white;}#sk-container-id-2 label.sk-toggleable__label {cursor: pointer;display: block;width: 100%;margin-bottom: 0;padding: 0.3em;box-sizing: border-box;text-align: center;}#sk-container-id-2 label.sk-toggleable__label-arrow:before {content: \"▸\";float: left;margin-right: 0.25em;color: #696969;}#sk-container-id-2 label.sk-toggleable__label-arrow:hover:before {color: black;}#sk-container-id-2 div.sk-estimator:hover label.sk-toggleable__label-arrow:before {color: black;}#sk-container-id-2 div.sk-toggleable__content {max-height: 0;max-width: 0;overflow: hidden;text-align: left;background-color: #f0f8ff;}#sk-container-id-2 div.sk-toggleable__content pre {margin: 0.2em;color: black;border-radius: 0.25em;background-color: #f0f8ff;}#sk-container-id-2 input.sk-toggleable__control:checked~div.sk-toggleable__content {max-height: 200px;max-width: 100%;overflow: auto;}#sk-container-id-2 input.sk-toggleable__control:checked~label.sk-toggleable__label-arrow:before {content: \"▾\";}#sk-container-id-2 div.sk-estimator input.sk-toggleable__control:checked~label.sk-toggleable__label {background-color: #d4ebff;}#sk-container-id-2 div.sk-label input.sk-toggleable__control:checked~label.sk-toggleable__label {background-color: #d4ebff;}#sk-container-id-2 input.sk-hidden--visually {border: 0;clip: rect(1px 1px 1px 1px);clip: rect(1px, 1px, 1px, 1px);height: 1px;margin: -1px;overflow: hidden;padding: 0;position: absolute;width: 1px;}#sk-container-id-2 div.sk-estimator {font-family: monospace;background-color: #f0f8ff;border: 1px dotted black;border-radius: 0.25em;box-sizing: border-box;margin-bottom: 0.5em;}#sk-container-id-2 div.sk-estimator:hover {background-color: #d4ebff;}#sk-container-id-2 div.sk-parallel-item::after {content: \"\";width: 100%;border-bottom: 1px solid gray;flex-grow: 1;}#sk-container-id-2 div.sk-label:hover label.sk-toggleable__label {background-color: #d4ebff;}#sk-container-id-2 div.sk-serial::before {content: \"\";position: absolute;border-left: 1px solid gray;box-sizing: border-box;top: 0;bottom: 0;left: 50%;z-index: 0;}#sk-container-id-2 div.sk-serial {display: flex;flex-direction: column;align-items: center;background-color: white;padding-right: 0.2em;padding-left: 0.2em;position: relative;}#sk-container-id-2 div.sk-item {position: relative;z-index: 1;}#sk-container-id-2 div.sk-parallel {display: flex;align-items: stretch;justify-content: center;background-color: white;position: relative;}#sk-container-id-2 div.sk-item::before, #sk-container-id-2 div.sk-parallel-item::before {content: \"\";position: absolute;border-left: 1px solid gray;box-sizing: border-box;top: 0;bottom: 0;left: 50%;z-index: -1;}#sk-container-id-2 div.sk-parallel-item {display: flex;flex-direction: column;z-index: 1;position: relative;background-color: white;}#sk-container-id-2 div.sk-parallel-item:first-child::after {align-self: flex-end;width: 50%;}#sk-container-id-2 div.sk-parallel-item:last-child::after {align-self: flex-start;width: 50%;}#sk-container-id-2 div.sk-parallel-item:only-child::after {width: 0;}#sk-container-id-2 div.sk-dashed-wrapped {border: 1px dashed gray;margin: 0 0.4em 0.5em 0.4em;box-sizing: border-box;padding-bottom: 0.4em;background-color: white;}#sk-container-id-2 div.sk-label label {font-family: monospace;font-weight: bold;display: inline-block;line-height: 1.2em;}#sk-container-id-2 div.sk-label-container {text-align: center;}#sk-container-id-2 div.sk-container {/* jupyter's `normalize.less` sets `[hidden] { display: none; }` but bootstrap.min.css set `[hidden] { display: none !important; }` so we also need the `!important` here to be able to override the default hidden behavior on the sphinx rendered scikit-learn.org. See: https://github.com/scikit-learn/scikit-learn/issues/21755 */display: inline-block !important;position: relative;}#sk-container-id-2 div.sk-text-repr-fallback {display: none;}</style><div id=\"sk-container-id-2\" class=\"sk-top-container\"><div class=\"sk-text-repr-fallback\"><pre>LinearRegression()</pre><b>In a Jupyter environment, please rerun this cell to show the HTML representation or trust the notebook. <br />On GitHub, the HTML representation is unable to render, please try loading this page with nbviewer.org.</b></div><div class=\"sk-container\" hidden><div class=\"sk-item\"><div class=\"sk-estimator sk-toggleable\"><input class=\"sk-toggleable__control sk-hidden--visually\" id=\"sk-estimator-id-2\" type=\"checkbox\" checked><label for=\"sk-estimator-id-2\" class=\"sk-toggleable__label sk-toggleable__label-arrow\">LinearRegression</label><div class=\"sk-toggleable__content\"><pre>LinearRegression()</pre></div></div></div></div></div>"
      ],
      "text/plain": [
       "LinearRegression()"
      ]
     },
     "execution_count": 23,
     "metadata": {},
     "output_type": "execute_result"
    }
   ],
   "source": [
    "# 4- Criar e treinar um modelo de regressão linear com os dados\n",
    "model = LinearRegression() #instanciar o modelo\n",
    "x = x.reshape(-1, 1) #transformar o array x em uma matriz de uma coluna\n",
    "model.fit(x, y) #treinar o modelo com os dados"
   ]
  },
  {
   "cell_type": "code",
   "execution_count": 13,
   "id": "cd43994c-ba45-446f-aece-1bd4df9df8ce",
   "metadata": {},
   "outputs": [
    {
     "name": "stdout",
     "output_type": "stream",
     "text": [
      "MSE : 1.75\n",
      "R2 : 0.91\n"
     ]
    }
   ],
   "source": [
    "# 5- Avaliar o desempenho do modelo com algumas métricas\n",
    "y_pred = model.predict(x) #fazer as as previsões para os dados de treino\n",
    "mse = mean_squared_error(y, y_pred) #calcular o erro quadrático médio\n",
    "r2 = r2_score(y, y_pred) #calcular o coeficiente de determinação\n",
    "print(f'MSE :{mse : .2f}')\n",
    "print(f'R2 :{r2: .2f}')"
   ]
  },
  {
   "cell_type": "code",
   "execution_count": 15,
   "id": "c938c495-326b-4a3e-8a3c-c1adc2648f35",
   "metadata": {},
   "outputs": [],
   "source": [
    "# 6- Fazer uma previsão para uma nova pizza\n",
    "x_new = np.array([12]) #diâmetro da nova pizza em polegadas\n",
    "y_new = model.predict(x_new.reshape(-1, 1)) #fazer a previsão para a nova pizza"
   ]
  },
  {
   "cell_type": "code",
   "execution_count": 21,
   "id": "94ac9803-5548-420f-9d20-a740fc59f45f",
   "metadata": {},
   "outputs": [
    {
     "name": "stdout",
     "output_type": "stream",
     "text": [
      "Uma pizza de 12 polegadas custa R$13.68\n"
     ]
    }
   ],
   "source": [
    "print(f'Uma pizza de {x_new[0]} polegadas custa R${y_new[0]:.2f}')"
   ]
  },
  {
   "cell_type": "code",
   "execution_count": null,
   "id": "aabe6410-80f9-434f-999a-fc78ecbbc738",
   "metadata": {},
   "outputs": [],
   "source": []
  }
 ],
 "metadata": {
  "kernelspec": {
   "display_name": "Python 3 (ipykernel)",
   "language": "python",
   "name": "python3"
  },
  "language_info": {
   "codemirror_mode": {
    "name": "ipython",
    "version": 3
   },
   "file_extension": ".py",
   "mimetype": "text/x-python",
   "name": "python",
   "nbconvert_exporter": "python",
   "pygments_lexer": "ipython3",
   "version": "3.11.7"
  }
 },
 "nbformat": 4,
 "nbformat_minor": 5
}
